{
 "cells": [
  {
   "cell_type": "markdown",
   "id": "9bc3303c",
   "metadata": {},
   "source": [
    "## Setting up"
   ]
  },
  {
   "cell_type": "code",
   "execution_count": 2,
   "id": "bc0646ff",
   "metadata": {},
   "outputs": [],
   "source": [
    "import os\n",
    "os.chdir(\"/Users/mingyu/Desktop/ICA\")"
   ]
  },
  {
   "cell_type": "code",
   "execution_count": 1,
   "id": "94aa56e7",
   "metadata": {},
   "outputs": [],
   "source": [
    "from global_settings import DATA_PATH\n",
    "from scipy.spatial import procrustes\n",
    "from global_settings import PATH_DICT\n",
    "import pickle5 as pickle\n",
    "import numpy as np\n",
    "from torch import nn\n",
    "import torch\n",
    "import re"
   ]
  },
  {
   "cell_type": "code",
   "execution_count": 2,
   "id": "f0e6be7f",
   "metadata": {},
   "outputs": [],
   "source": [
    "def get_fitted(activation, model_name, print_disp=False):\n",
    "    with open(os.path.join(DATA_PATH, f\"params_{m}_{n}.pkl\"), \"rb\") as handle:\n",
    "        params = pickle.load(handle)\n",
    "        w, b = params[\"w\"], params[\"b\"]\n",
    "    \n",
    "    activation_name = ''.join([_ for _ in re.sub(\"[\\(\\[].*?[\\)\\]]\", \"\", str(activation)) if _.isalpha()])\n",
    "    model_path = os.path.join(PATH_DICT[model_name], f\"m{m}_n{n}_{activation_name}\")\n",
    "    model = torch.load(os.path.join(model_path, \"model.pth\"))\n",
    "    w_hat = model[\"decoder.fc.weight\"].numpy().astype(np.float64)\n",
    "    b_hat = model[\"decoder.fc.bias\"].numpy().astype(np.float64)\n",
    "    \n",
    "    if print_disp:\n",
    "        # print disparity \n",
    "        b = b.reshape(len(b), 1)\n",
    "        b_hat = b_hat.reshape(len(b_hat), 1)\n",
    "        w_disp = procrustes(w, w_hat)[2]\n",
    "        b_disp = procrustes(b, b_hat)[2]\n",
    "        print(f\"Disparity for weight matrix: {round(w_disp, 3)}\")\n",
    "        print(f\"Disparity for bias vector: {round(b_disp, 3)}\")\n",
    "    \n",
    "    return w_hat, b_hat"
   ]
  },
  {
   "cell_type": "code",
   "execution_count": 3,
   "id": "1eb23385",
   "metadata": {},
   "outputs": [],
   "source": [
    "m, n = 2, 2"
   ]
  },
  {
   "cell_type": "markdown",
   "id": "1aa4f946",
   "metadata": {},
   "source": [
    "### 0. Ground Truth"
   ]
  },
  {
   "cell_type": "code",
   "execution_count": 4,
   "id": "671aa036",
   "metadata": {},
   "outputs": [],
   "source": [
    "with open(os.path.join(DATA_PATH, f\"params_{m}_{n}.pkl\"), \"rb\") as handle:\n",
    "    params = pickle.load(handle)\n",
    "    w, b = params[\"w\"], params[\"b\"]"
   ]
  },
  {
   "cell_type": "code",
   "execution_count": 5,
   "id": "2199f0a8",
   "metadata": {},
   "outputs": [
    {
     "data": {
      "text/plain": [
       "array([[2.31396193, 0.06225585],\n",
       "       [1.9009447 , 2.24641165]])"
      ]
     },
     "execution_count": 5,
     "metadata": {},
     "output_type": "execute_result"
    }
   ],
   "source": [
    "w"
   ]
  },
  {
   "cell_type": "code",
   "execution_count": 6,
   "id": "1c3617be",
   "metadata": {
    "scrolled": true
   },
   "outputs": [
    {
     "data": {
      "text/plain": [
       "array([0.49850701, 0.22479665])"
      ]
     },
     "execution_count": 6,
     "metadata": {},
     "output_type": "execute_result"
    }
   ],
   "source": [
    "b"
   ]
  },
  {
   "cell_type": "markdown",
   "id": "3c28bd04",
   "metadata": {},
   "source": [
    "### 1.1 ReLU with MLE"
   ]
  },
  {
   "cell_type": "code",
   "execution_count": 7,
   "id": "36cf9e00",
   "metadata": {},
   "outputs": [
    {
     "data": {
      "text/plain": [
       "(array([[-2.03450799,  1.16307735],\n",
       "        [-0.56623292,  2.84901834]]),\n",
       " array([0.4938812, 0.249731 ]))"
      ]
     },
     "execution_count": 7,
     "metadata": {},
     "output_type": "execute_result"
    }
   ],
   "source": [
    "model_name = \"mleauto\"\n",
    "activation = nn.ReLU()\n",
    "get_fitted(activation, model_name)"
   ]
  },
  {
   "cell_type": "markdown",
   "id": "91861b20",
   "metadata": {},
   "source": [
    "### 1.2 ReLU with VAE"
   ]
  },
  {
   "cell_type": "code",
   "execution_count": 8,
   "id": "3ebb008a",
   "metadata": {},
   "outputs": [
    {
     "data": {
      "text/plain": [
       "(array([[-0.16225757, -1.74038982],\n",
       "        [-0.412806  , -2.22019005]]),\n",
       " array([1.04388797, 0.96761191]))"
      ]
     },
     "execution_count": 8,
     "metadata": {},
     "output_type": "execute_result"
    }
   ],
   "source": [
    "model_name = \"vae\"\n",
    "activation = nn.ReLU()\n",
    "get_fitted(activation, model_name)"
   ]
  },
  {
   "cell_type": "markdown",
   "id": "999f6242",
   "metadata": {},
   "source": [
    "### 2.1 Sigmoid with MLE"
   ]
  },
  {
   "cell_type": "code",
   "execution_count": 9,
   "id": "4e55d223",
   "metadata": {},
   "outputs": [
    {
     "data": {
      "text/plain": [
       "(array([[ 2.03217411, -1.70263267],\n",
       "        [ 0.5922696 , -1.80718672]]),\n",
       " array([0.56725401, 0.21412075]))"
      ]
     },
     "execution_count": 9,
     "metadata": {},
     "output_type": "execute_result"
    }
   ],
   "source": [
    "model_name = \"mleauto\"\n",
    "activation = nn.Sigmoid()\n",
    "get_fitted(activation, model_name)"
   ]
  },
  {
   "cell_type": "markdown",
   "id": "0d919dbc",
   "metadata": {},
   "source": [
    "### 2.2 Sigmoid with VAE"
   ]
  },
  {
   "cell_type": "code",
   "execution_count": 10,
   "id": "587cff08",
   "metadata": {},
   "outputs": [
    {
     "data": {
      "text/plain": [
       "(array([[-2.2580688 ,  4.6960187 ],\n",
       "        [-4.70776415, -1.98049355]]),\n",
       " array([ 0.77754241, -0.092829  ]))"
      ]
     },
     "execution_count": 10,
     "metadata": {},
     "output_type": "execute_result"
    }
   ],
   "source": [
    "model_name = \"vae\"\n",
    "activation = nn.Sigmoid()\n",
    "get_fitted(activation, model_name)"
   ]
  },
  {
   "cell_type": "markdown",
   "id": "6f73ad8c",
   "metadata": {},
   "source": [
    "### 3.1 Tanh with MLE"
   ]
  },
  {
   "cell_type": "code",
   "execution_count": 11,
   "id": "f9d1d833",
   "metadata": {},
   "outputs": [
    {
     "data": {
      "text/plain": [
       "(array([[2.42021847, 0.71098846],\n",
       "        [1.03510618, 2.25148892]]),\n",
       " array([0.53990328, 0.21895871]))"
      ]
     },
     "execution_count": 11,
     "metadata": {},
     "output_type": "execute_result"
    }
   ],
   "source": [
    "model_name = \"mleauto\"\n",
    "activation = nn.Tanh()\n",
    "get_fitted(activation, model_name)"
   ]
  },
  {
   "cell_type": "markdown",
   "id": "03043350",
   "metadata": {},
   "source": [
    "### 3.2 Sigmoid with VAE"
   ]
  },
  {
   "cell_type": "code",
   "execution_count": 14,
   "id": "7f27e9ee",
   "metadata": {},
   "outputs": [
    {
     "data": {
      "text/plain": [
       "(array([[ 0.00237525, -1.38529801],\n",
       "        [-0.00328783, -1.41264927]]),\n",
       " array([0.6198566 , 0.44329619]))"
      ]
     },
     "execution_count": 14,
     "metadata": {},
     "output_type": "execute_result"
    }
   ],
   "source": [
    "model_name = \"vae\"\n",
    "activation = nn.Tanh()\n",
    "get_fitted(activation, model_name)"
   ]
  },
  {
   "cell_type": "markdown",
   "id": "4a7632ce",
   "metadata": {},
   "source": [
    "### 4.1 LeakyReLU with MLE"
   ]
  },
  {
   "cell_type": "code",
   "execution_count": 13,
   "id": "d690c357",
   "metadata": {},
   "outputs": [
    {
     "data": {
      "text/plain": [
       "(array([[2.27939367, 0.56431121],\n",
       "        [1.32160783, 2.58895802]]),\n",
       " array([0.49619189, 0.25369683]))"
      ]
     },
     "execution_count": 13,
     "metadata": {},
     "output_type": "execute_result"
    }
   ],
   "source": [
    "model_name = \"mleauto\"\n",
    "activation = nn.LeakyReLU()\n",
    "get_fitted(activation, model_name)"
   ]
  },
  {
   "cell_type": "markdown",
   "id": "9c16799b",
   "metadata": {},
   "source": [
    "### 4.2 LeakyReLU with VAE"
   ]
  },
  {
   "cell_type": "code",
   "execution_count": 15,
   "id": "89888182",
   "metadata": {},
   "outputs": [
    {
     "data": {
      "text/plain": [
       "(array([[-0.91012222, -0.0071652 ],\n",
       "        [-1.2368201 ,  0.0081029 ]]),\n",
       " array([0.49280033, 0.19474944]))"
      ]
     },
     "execution_count": 15,
     "metadata": {},
     "output_type": "execute_result"
    }
   ],
   "source": [
    "model_name = \"vae\"\n",
    "activation = nn.LeakyReLU()\n",
    "get_fitted(activation, model_name)"
   ]
  },
  {
   "cell_type": "code",
   "execution_count": null,
   "id": "5e1fa0ab",
   "metadata": {},
   "outputs": [],
   "source": []
  }
 ],
 "metadata": {
  "kernelspec": {
   "display_name": "Python 3 (ipykernel)",
   "language": "python",
   "name": "python3"
  },
  "language_info": {
   "codemirror_mode": {
    "name": "ipython",
    "version": 3
   },
   "file_extension": ".py",
   "mimetype": "text/x-python",
   "name": "python",
   "nbconvert_exporter": "python",
   "pygments_lexer": "ipython3",
   "version": "3.9.7"
  }
 },
 "nbformat": 4,
 "nbformat_minor": 5
}
